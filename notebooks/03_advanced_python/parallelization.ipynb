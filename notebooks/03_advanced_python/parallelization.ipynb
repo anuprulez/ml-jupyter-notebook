{
 "cells": [
  {
   "cell_type": "markdown",
   "id": "632ef739-4aa0-4e94-b367-cd8df9891b0b",
   "metadata": {},
   "source": [
    "# Parallelization\n",
    "When programming custom algorithms in python, it can happen that our code becomes slow because we run a couple of nested for-loops. If the inner loops do not depend on each other, code can be parallelized and sped up. Note, we are parallelizing code on a central processing unit (CPU) not not mix it up with GPU-acceleration that uses graphics processing units (GPUs)."
   ]
  },
  {
   "cell_type": "code",
   "execution_count": 1,
   "id": "eb758e9f-259e-4768-b2de-33f33342ace9",
   "metadata": {},
   "outputs": [],
   "source": [
    "import time\n",
    "import numpy as np\n",
    "from functools import partial\n",
    "import timeit\n",
    "import matplotlib.pyplot as plt\n",
    "import platform"
   ]
  },
  {
   "cell_type": "markdown",
   "id": "01ba8886-6f3b-4757-8797-5f808a3a3183",
   "metadata": {},
   "source": [
    "We start with an algorithm that does something with an image at given pixel coordinates"
   ]
  },
  {
   "cell_type": "code",
   "execution_count": 2,
   "id": "4b205479-f418-4088-8eb0-f1ae6f5c860e",
   "metadata": {},
   "outputs": [],
   "source": [
    "def slow_thing(image, x, y):\n",
    "    # Silly algorithm for wasting compute time\n",
    "    sum = 0\n",
    "    for i in range(1000):\n",
    "        for j in range(100):\n",
    "            sum = sum + x\n",
    "        sum = sum + y\n",
    "    image[x, y] = sum"
   ]
  },
  {
   "cell_type": "code",
   "execution_count": 3,
   "id": "f2883146-549b-43f6-b417-6cd4828db3e7",
   "metadata": {},
   "outputs": [],
   "source": [
    "image = np.zeros((10, 10))"
   ]
  },
  {
   "cell_type": "markdown",
   "id": "4a186868-2971-4780-97ef-c9532a05a590",
   "metadata": {},
   "source": [
    "We now use [timeit](https://docs.python.org/3/library/timeit.html) to measure how long the operation takes for processing a single pixel."
   ]
  },
  {
   "cell_type": "code",
   "execution_count": 4,
   "id": "d19d9c74-6187-4b88-a4a6-24d30e47a3ac",
   "metadata": {},
   "outputs": [
    {
     "name": "stdout",
     "output_type": "stream",
     "text": [
      "3.67 ms ± 12.1 µs per loop (mean ± std. dev. of 7 runs, 100 loops each)\n"
     ]
    }
   ],
   "source": [
    "%timeit slow_thing(image, 4, 5)"
   ]
  },
  {
   "cell_type": "markdown",
   "id": "ed6a9e66-c405-411b-a918-2a21bc513b77",
   "metadata": {},
   "source": [
    "We now define the operation on the whole image"
   ]
  },
  {
   "cell_type": "code",
   "execution_count": 5,
   "id": "42d965c7-98c7-4e63-9f8f-f5c5dd304271",
   "metadata": {},
   "outputs": [],
   "source": [
    "def process_image(image):\n",
    "    for x in range(image.shape[1]):\n",
    "        for y in range(image.shape[1]):\n",
    "            slow_thing(image, x, y)"
   ]
  },
  {
   "cell_type": "markdown",
   "id": "c430a55b-e529-413f-9512-48b0201b504e",
   "metadata": {},
   "source": [
    "We measure the time of this function as mentioned above"
   ]
  },
  {
   "cell_type": "code",
   "execution_count": 6,
   "id": "2df82cdc-7ed4-4d1c-a31e-7862a211cfe5",
   "metadata": {},
   "outputs": [
    {
     "name": "stdout",
     "output_type": "stream",
     "text": [
      "372 ms ± 1.21 ms per loop (mean ± std. dev. of 7 runs, 1 loop each)\n"
     ]
    }
   ],
   "source": [
    "%timeit process_image(image)"
   ]
  },
  {
   "cell_type": "markdown",
   "id": "152d9860-90c9-46ee-9d73-48d6785dafd9",
   "metadata": {},
   "source": [
    "This function is quite slow and parallelization may make sense."
   ]
  },
  {
   "cell_type": "markdown",
   "id": "d0048e31-5126-43bf-8ff6-293b508e5544",
   "metadata": {},
   "source": [
    "## Parallelization using joblib.Parallel\n",
    "A simple and straightforward approach for parallelization is using [`joblib.Parallel`](https://joblib.readthedocs.io/en/latest/generated/joblib.Parallel.html) and `joblib.delayed`."
   ]
  },
  {
   "cell_type": "code",
   "execution_count": 7,
   "id": "fef01218-9344-409d-bcd6-1da820fef914",
   "metadata": {},
   "outputs": [],
   "source": [
    "from joblib import Parallel, delayed, cpu_count"
   ]
  },
  {
   "cell_type": "markdown",
   "id": "60999e6e-f489-4884-a15e-95bf861bbc5a",
   "metadata": {},
   "source": [
    "Note the reverse writing of the for loops in the following block. The term `delayed(slow_thing)(image, x, y)` is technially a function call, that is not executed. Later, when the return value of this call is actually needed, then the actualy execution will happen. See [dask delayed](https://docs.dask.org/en/stable/delayed.html) for details."
   ]
  },
  {
   "cell_type": "code",
   "execution_count": 8,
   "id": "326eb729-0b7a-4951-818e-610c961d987c",
   "metadata": {},
   "outputs": [],
   "source": [
    "def process_image_parallel(image):\n",
    "    Parallel(n_jobs=-1)(delayed(slow_thing)(image, x, y) \n",
    "                        for y in range(image.shape[0]) \n",
    "                        for x in range(image.shape[1]))"
   ]
  },
  {
   "cell_type": "code",
   "execution_count": 9,
   "id": "5d98cc5f-99dd-48a4-abd9-22f594683b8c",
   "metadata": {},
   "outputs": [
    {
     "name": "stdout",
     "output_type": "stream",
     "text": [
      "59.1 ms ± 1.59 ms per loop (mean ± std. dev. of 7 runs, 1 loop each)\n"
     ]
    }
   ],
   "source": [
    "%timeit process_image_parallel(image)"
   ]
  },
  {
   "cell_type": "markdown",
   "id": "0dfd1716-3270-498f-94d0-1f036f67a35c",
   "metadata": {},
   "source": [
    "A speedup of 7 is not bad. The `n_jobs=-1` implies that all compute units / threads are used. We can also print out how many compute cores were used:"
   ]
  },
  {
   "cell_type": "code",
   "execution_count": 10,
   "id": "73d74568-984d-4160-ab22-5dd0df446b07",
   "metadata": {},
   "outputs": [
    {
     "data": {
      "text/plain": [
       "10"
      ]
     },
     "execution_count": 10,
     "metadata": {},
     "output_type": "execute_result"
    }
   ],
   "source": [
    "cpu_count()"
   ]
  },
  {
   "cell_type": "markdown",
   "id": "116a2466-fb42-4db4-a42d-5c7018e39bff",
   "metadata": {},
   "source": [
    "For documentation purposes, we can also print out on what kind of CPU that algorithm was executed. This string might be more or less informative depending on what operating system / computer we are executing this notebook."
   ]
  },
  {
   "cell_type": "code",
   "execution_count": 11,
   "id": "5d97f430-4b8b-4b9b-89aa-d1fbbb4c4803",
   "metadata": {},
   "outputs": [
    {
     "data": {
      "text/plain": [
       "'i386'"
      ]
     },
     "execution_count": 11,
     "metadata": {},
     "output_type": "execute_result"
    }
   ],
   "source": [
    "platform.processor()"
   ]
  },
  {
   "cell_type": "markdown",
   "id": "3169c33a-1346-4627-8485-9491cefa956b",
   "metadata": {},
   "source": [
    "## Benchmarking execution time\n",
    "In image processing, it is very common that execution time of algorithms shows different patterns depending on image size. We will now benchmark the algorithm above and see how it performs on differently sized images.\n",
    "To bind a function to benchmark to a given image without executing it, we are using the [partial](https://docs.python.org/3/library/functools.html#functools.partial) pattern."
   ]
  },
  {
   "cell_type": "code",
   "execution_count": 12,
   "id": "f57c6d5f-4ae7-435d-b6ec-e50d40075f91",
   "metadata": {},
   "outputs": [],
   "source": [
    "def benchmark(target_function):\n",
    "    \"\"\"\n",
    "    Tests a function on a couple of image sizes and returns times taken for processing.\n",
    "    \"\"\"\n",
    "    sizes = np.arange(1, 5) * 10\n",
    "\n",
    "    benchmark_data = []\n",
    "\n",
    "    for size in sizes:\n",
    "        print(\"Size\", size)\n",
    "\n",
    "        # make new data\n",
    "        image = np.zeros((size, size))\n",
    "        \n",
    "        # bind target function to given image\n",
    "        partial_function = partial(target_function, image)\n",
    "\n",
    "        # measure execution time\n",
    "        time_in_s = timeit.timeit(partial_function, number=10)\n",
    "        print(\"time\", time_in_s, \"s\")\n",
    "\n",
    "        # store results\n",
    "        benchmark_data.append([size, time_in_s])\n",
    "\n",
    "    return np.asarray(benchmark_data)"
   ]
  },
  {
   "cell_type": "code",
   "execution_count": 13,
   "id": "ca137a83-cd86-43c5-8737-0ec1b8c02983",
   "metadata": {},
   "outputs": [
    {
     "name": "stdout",
     "output_type": "stream",
     "text": [
      "Benchmarking normal\n",
      "Size 10\n",
      "time 3.6755600420000007 s\n",
      "Size 20\n",
      "time 14.606198167 s\n",
      "Size 30\n",
      "time 32.68187025 s\n",
      "Size 40\n",
      "time 58.304140666 s\n",
      "Benchmarking parallel\n",
      "Size 10\n",
      "time 0.6165027079999987 s\n",
      "Size 20\n",
      "time 2.0231766670000013 s\n",
      "Size 30\n",
      "time 4.416658041999995 s\n",
      "Size 40\n",
      "time 7.917167458000009 s\n"
     ]
    }
   ],
   "source": [
    "print(\"Benchmarking normal\")\n",
    "benchmark_data_normal = benchmark(process_image)\n",
    "print(\"Benchmarking parallel\")\n",
    "benchmark_data_parallel = benchmark(process_image_parallel)"
   ]
  },
  {
   "cell_type": "code",
   "execution_count": 14,
   "id": "b1ddb8a2-1628-40eb-b656-7bde6541c249",
   "metadata": {},
   "outputs": [
    {
     "data": {
      "text/plain": [
       "Text(0, 0.5, 'Compute time in s')"
      ]
     },
     "execution_count": 14,
     "metadata": {},
     "output_type": "execute_result"
    },
    {
     "data": {
      "image/png": "[encoded data removed]",
      "text/plain": [
       "<Figure size 432x288 with 1 Axes>"
      ]
     },
     "metadata": {
      "needs_background": "light"
     },
     "output_type": "display_data"
    }
   ],
   "source": [
    "plt.scatter(benchmark_data_normal[:,0] ** 2, benchmark_data_normal[:,1])\n",
    "plt.scatter(benchmark_data_parallel[:,0] ** 2, benchmark_data_parallel[:,1])\n",
    "plt.legend([\"normal\", \"parallel\"])\n",
    "plt.xlabel(\"Image size in pixels\")\n",
    "plt.ylabel(\"Compute time in s\")\n",
    "plt.show()"
   ]
  },
  {
   "cell_type": "markdown",
   "id": "71e07e3b-7fae-481d-8686-07777024ff4b",
   "metadata": {},
   "source": [
    "If we see this pattern, we speak of _linear_ relationship between data size and compute time. Computer scientists use the [O notation](https://en.wikipedia.org/wiki/Big_O_notation) to describe the [complexity](https://en.wikipedia.org/wiki/Computational_complexity) of algorithms. This algorithm has `O(n)` and `n` represents the number of pixels in this case.\n",
    "\n",
    "Let's take a look at another algorithm."
   ]
  },
  {
   "cell_type": "code",
   "execution_count": 15,
   "id": "ad8aa333-fda9-4b97-9fff-310a1313b401",
   "metadata": {},
   "outputs": [],
   "source": [
    "def silly_sum(image):\n",
    "    # Silly algorithm for wasting compute time\n",
    "    sum = 0\n",
    "    for i in range(image.shape[1]):\n",
    "        for j in range(image.shape[0]):\n",
    "            for k in range(image.shape[0]):\n",
    "                for l in range(image.shape[0]):\n",
    "                    sum = sum + image[i,j] - k + l\n",
    "        sum = sum + i\n",
    "        image[i, j] = sum / image.shape[1] / image.shape[0]"
   ]
  },
  {
   "cell_type": "code",
   "execution_count": 16,
   "id": "9d451c7c-e14f-4274-8a39-210fa01c7176",
   "metadata": {},
   "outputs": [
    {
     "name": "stdout",
     "output_type": "stream",
     "text": [
      "Size 10\n",
      "time 0.049324583000014854 s\n",
      "Size 20\n",
      "time 0.7592800000000182 s\n",
      "Size 30\n",
      "time 3.7161972079999828 s\n",
      "Size 40\n",
      "time 11.734440750000005 s\n"
     ]
    }
   ],
   "source": [
    "benchmark_data_silly_sum = benchmark(silly_sum)"
   ]
  },
  {
   "cell_type": "code",
   "execution_count": 17,
   "id": "ef55ae09-b594-46bf-ba87-c84895608b08",
   "metadata": {},
   "outputs": [
    {
     "data": {
      "text/plain": [
       "Text(0, 0.5, 'Compute time in s')"
      ]
     },
     "execution_count": 17,
     "metadata": {},
     "output_type": "execute_result"
    },
    {
     "data": {
      "image/png": "[encoded data removed]",
      "text/plain": [
       "<Figure size 432x288 with 1 Axes>"
      ]
     },
     "metadata": {
      "needs_background": "light"
     },
     "output_type": "display_data"
    }
   ],
   "source": [
    "plt.scatter(benchmark_data_silly_sum[:,0] ** 2, benchmark_data_silly_sum[:,1])\n",
    "plt.legend([\"normal\"])\n",
    "plt.xlabel(\"Image size in pixels\")\n",
    "plt.ylabel(\"Compute time in s\")\n",
    "plt.show()"
   ]
  },
  {
   "cell_type": "markdown",
   "id": "1167b4de-68d7-4ec1-9016-c85466226c40",
   "metadata": {},
   "source": [
    "This algorithm is stronger dependent on image size, the plot shows approximately [quadratic](https://en.wikipedia.org/wiki/Time_complexity#Table_of_common_time_complexities) complexity. That means if the data size douples, the compute time multiplies by four. The algorithms O-notation is `O(n^2)`. We could presume that a similar algorithm applied in 3D has cubic complexity, `O(n^3)`. If such algorithms are bottlenecks in your science, parallelization and GPU-acceleration make a lot of sense."
   ]
  },
  {
   "cell_type": "markdown",
   "id": "d69ce323-e968-4062-b2b1-3dc3a63db960",
   "metadata": {},
   "source": [
    "## Code optimization using numba\n",
    "In case the code we perform is simple and just uses standard python, numpy etc. function, we can use a just-in-time (JIT) compiler, e.g. provided by [numba](https://numba.pydata.org/) to speedup the code."
   ]
  },
  {
   "cell_type": "code",
   "execution_count": 18,
   "id": "0c8f70d3-aae4-4843-a195-ee0a7556c826",
   "metadata": {},
   "outputs": [],
   "source": [
    "from numba import jit\n",
    "\n",
    "@jit\n",
    "def process_image_compiled(image):\n",
    "    for x in range(image.shape[1]):\n",
    "        for y in range(image.shape[1]):\n",
    "            # Silly algorithm for wasting compute time\n",
    "            sum = 0\n",
    "            for i in range(1000):\n",
    "                for j in range(1000):\n",
    "                    sum = sum + x\n",
    "                sum = sum + y\n",
    "            image[x, y] = sum"
   ]
  },
  {
   "cell_type": "code",
   "execution_count": 19,
   "id": "bed1d1f8-80c6-4349-9b27-82dadb20fd4f",
   "metadata": {},
   "outputs": [
    {
     "name": "stdout",
     "output_type": "stream",
     "text": [
      "310 ns ± 0.827 ns per loop (mean ± std. dev. of 7 runs, 1000000 loops each)\n"
     ]
    }
   ],
   "source": [
    "%timeit process_image_compiled(image)"
   ]
  },
  {
   "cell_type": "markdown",
   "id": "daa9fdab-fc08-4b23-882d-37ea669f1aef",
   "metadata": {},
   "source": [
    "## Quality assurance\n",
    "Note that in this section we only measured compute time of algorithms. We did not determine if the differently optimized versions of the algorithms produce the same result. Quality assurance is good scientific practice. The same is relevant in the context of GPU-acceleration and for example described in detail [here](https://arxiv.org/pdf/2008.11799)."
   ]
  },
  {
   "cell_type": "markdown",
   "id": "2be3148e-b4b4-47c3-8ed6-18c3e6808ebf",
   "metadata": {},
   "source": [
    "## Excercise: Parallelization\n",
    "To practice parallelization, parallelize the function `silly_sum` shown above and plot its performance in comparison with the non-parallel version."
   ]
  },
  {
   "cell_type": "code",
   "execution_count": null,
   "id": "5804d445-6bdd-40ea-931d-0a57a2d1f609",
   "metadata": {},
   "outputs": [],
   "source": []
  }
 ],
 "metadata": {
  "kernelspec": {
   "display_name": "Python 3 (ipykernel)",
   "language": "python",
   "name": "python3"
  },
  "language_info": {
   "codemirror_mode": {
    "name": "ipython",
    "version": 3
   },
   "file_extension": ".py",
   "mimetype": "text/x-python",
   "name": "python",
   "nbconvert_exporter": "python",
   "pygments_lexer": "ipython3",
   "version": "3.9.9"
  }
 },
 "nbformat": 4,
 "nbformat_minor": 5
}
