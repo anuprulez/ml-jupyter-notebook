{
 "cells": [
  {
   "cell_type": "markdown",
   "id": "6b25ab6a-6e72-499b-8e1c-596a1acf326e",
   "metadata": {},
   "source": [
    "# Inner and outer cell borders\n",
    "When studying tissues, organisms and organoids, often the position and orientation of the cell and its membranes within the tissue is relevant. For example, we differentiate apical (at an apex, at the end, outer) and basal (at the base, inner) sides of cells within tissue. Starting from a cell segmentation label image, we can identify pixels that sit outside or inside of a structure made of cells. In the following example we work with a synthetic two-dimensional image of some cells forming an organoid. The same functions will also work in 3D."
   ]
  },
  {
   "cell_type": "code",
   "execution_count": 1,
   "id": "626f5f39-5098-4073-85ad-dba507e02258",
   "metadata": {},
   "outputs": [],
   "source": [
    "import numpy as np\n",
    "import pyclesperanto_prototype as cle"
   ]
  },
  {
   "cell_type": "markdown",
   "id": "d90dcfb3-062f-47f1-8bf7-f9d33778e364",
   "metadata": {},
   "source": [
    "First, we build our synthetic dataset. It is made of 6 cell-centers we dilated to form an organoid."
   ]
  },
  {
   "cell_type": "code",
   "execution_count": 2,
   "id": "451f06eb-7ed0-444f-8ff7-bb8978993b00",
   "metadata": {},
   "outputs": [
    {
     "data": {
      "text/plain": [
       "(100, 100)"
      ]
     },
     "execution_count": 2,
     "metadata": {},
     "output_type": "execute_result"
    }
   ],
   "source": [
    "points = np.asarray([\n",
    "    [50, 50],\n",
    "    [60, 60],\n",
    "    [25, 40],\n",
    "    [70, 30],\n",
    "    [35, 65],\n",
    "    [50, 25]\n",
    "]).T\n",
    "image = np.zeros((100, 100))\n",
    "spots = cle.pointlist_to_labelled_spots(points, image)\n",
    "cells = cle.dilate_labels(spots, radius=15)\n",
    "spots.shape"
   ]
  },
  {
   "cell_type": "markdown",
   "id": "09eabbdf-6694-4708-b79d-5c20f554c481",
   "metadata": {},
   "source": [
    "These are our cells:"
   ]
  },
  {
   "cell_type": "code",
   "execution_count": 3,
   "id": "4118d3d7-a155-482b-bf7f-c2c4d877b099",
   "metadata": {},
   "outputs": [
    {
     "data": {
      "image/png": "[encoded data removed]",
      "text/plain": [
       "<Figure size 432x288 with 1 Axes>"
      ]
     },
     "metadata": {
      "needs_background": "light"
     },
     "output_type": "display_data"
    }
   ],
   "source": [
    "cle.imshow(cells, labels=True)"
   ]
  },
  {
   "cell_type": "markdown",
   "id": "a6a69fe3-ccf7-4bfc-b768-d7465cec1f3c",
   "metadata": {},
   "source": [
    "And that's the organoid:"
   ]
  },
  {
   "cell_type": "code",
   "execution_count": 4,
   "id": "430c2545-b765-427e-a001-6af31c372547",
   "metadata": {},
   "outputs": [
    {
     "data": {
      "image/png": "[encoded data removed]",
      "text/plain": [
       "<Figure size 432x288 with 1 Axes>"
      ]
     },
     "metadata": {
      "needs_background": "light"
     },
     "output_type": "display_data"
    }
   ],
   "source": [
    "organoid = cells > 0\n",
    "cle.imshow(organoid)"
   ]
  },
  {
   "cell_type": "markdown",
   "id": "0772ee71-ff4e-4581-a111-d146c6c119dd",
   "metadata": {},
   "source": [
    "We now identify the pixels that sit on the borders of the cells."
   ]
  },
  {
   "cell_type": "code",
   "execution_count": 5,
   "id": "50881a14-b5a2-4855-943c-949fcb631b6a",
   "metadata": {},
   "outputs": [
    {
     "data": {
      "image/png": "[encoded data removed]",
      "text/plain": [
       "<Figure size 432x288 with 1 Axes>"
      ]
     },
     "metadata": {
      "needs_background": "light"
     },
     "output_type": "display_data"
    }
   ],
   "source": [
    "cell_borders = cle.reduce_labels_to_label_edges(cells)\n",
    "cle.imshow(cell_borders, labels=True)"
   ]
  },
  {
   "cell_type": "markdown",
   "id": "16f151e4-f006-459b-bce7-23b05b571f25",
   "metadata": {},
   "source": [
    "We can do exactly the same with the organoid to identify the pixels on its surface."
   ]
  },
  {
   "cell_type": "code",
   "execution_count": 6,
   "id": "0e02357b-f746-4867-b881-e9c962b653d3",
   "metadata": {},
   "outputs": [
    {
     "data": {
      "image/png": "[encoded data removed]",
      "text/plain": [
       "<Figure size 432x288 with 1 Axes>"
      ]
     },
     "metadata": {
      "needs_background": "light"
     },
     "output_type": "display_data"
    }
   ],
   "source": [
    "organoid_border = cle.reduce_labels_to_label_edges(organoid)\n",
    "cle.imshow(organoid_border)"
   ]
  },
  {
   "cell_type": "markdown",
   "id": "d9d1ec4e-8f1f-4e45-b12a-ad37c18b020d",
   "metadata": {},
   "source": [
    "By masking the cell borders with the organoid border - technically that's a pixel-by-pixel multiplication - we can identify the outer borders."
   ]
  },
  {
   "cell_type": "code",
   "execution_count": 7,
   "id": "aa965a78-ef82-4e60-8909-eed3d68c0cd2",
   "metadata": {},
   "outputs": [
    {
     "data": {
      "image/png": "[encoded data removed]",
      "text/plain": [
       "<Figure size 432x288 with 1 Axes>"
      ]
     },
     "metadata": {
      "needs_background": "light"
     },
     "output_type": "display_data"
    }
   ],
   "source": [
    "outer_borders = cle.mask(cell_borders, organoid_border)\n",
    "cle.imshow(outer_borders, labels=True)"
   ]
  },
  {
   "cell_type": "markdown",
   "id": "11ef81d3-49ef-4bee-9bb6-2b491ec9d6ef",
   "metadata": {},
   "source": [
    "If we subtract the outer borders from all cell borders, we retrieve the inner borders"
   ]
  },
  {
   "cell_type": "code",
   "execution_count": 8,
   "id": "452340c1-987d-41b1-8431-f9882cad6e10",
   "metadata": {},
   "outputs": [
    {
     "data": {
      "image/png": "[encoded data removed]",
      "text/plain": [
       "<Figure size 432x288 with 1 Axes>"
      ]
     },
     "metadata": {
      "needs_background": "light"
     },
     "output_type": "display_data"
    }
   ],
   "source": [
    "inner_borders = cell_borders - outer_borders\n",
    "cle.imshow(inner_borders, labels=True)"
   ]
  },
  {
   "cell_type": "markdown",
   "id": "afc73d32-96d9-4b23-b712-8fadde7a8edc",
   "metadata": {},
   "source": [
    "When post-processing these label images, be a bit careful, because these images may not be sequentially labeled. There are libraries and functions which may have issues with those kind of label images (e.g. `cle.statistics_of_labelled_pixels()`). You can print out which labels exist in a label image using `np.unique()` and you could make the label images sequential using `cle.relabel_sequential()`."
   ]
  },
  {
   "cell_type": "code",
   "execution_count": 9,
   "id": "a40a6826-5f21-4ba4-aafa-a2992a6332e1",
   "metadata": {},
   "outputs": [
    {
     "data": {
      "text/plain": [
       "array([0., 2., 3., 4., 5., 6.], dtype=float32)"
      ]
     },
     "execution_count": 9,
     "metadata": {},
     "output_type": "execute_result"
    }
   ],
   "source": [
    "np.unique(outer_borders)"
   ]
  },
  {
   "cell_type": "code",
   "execution_count": 10,
   "id": "7da3ec85-4bd0-4433-aa73-46641e24dbcf",
   "metadata": {},
   "outputs": [
    {
     "data": {
      "text/plain": [
       "array([0., 1., 2., 3., 4., 5., 6.], dtype=float32)"
      ]
     },
     "execution_count": 10,
     "metadata": {},
     "output_type": "execute_result"
    }
   ],
   "source": [
    "np.unique(inner_borders)"
   ]
  }
 ],
 "metadata": {
  "kernelspec": {
   "display_name": "Python 3 (ipykernel)",
   "language": "python",
   "name": "python3"
  },
  "language_info": {
   "codemirror_mode": {
    "name": "ipython",
    "version": 3
   },
   "file_extension": ".py",
   "mimetype": "text/x-python",
   "name": "python",
   "nbconvert_exporter": "python",
   "pygments_lexer": "ipython3",
   "version": "3.9.13"
  }
 },
 "nbformat": 4,
 "nbformat_minor": 5
}
