{
 "cells": [
  {
   "cell_type": "markdown",
   "metadata": {},
   "source": [
    "# Bland-Altman plots\n",
    "\n",
    "Comparing measurement methods can be tricky. In this notebook, we loosely follow the arguing of Martin Bland and Douglas Altman, the developers of the [Balnd-Altman plot](https://en.wikipedia.org/wiki/Bland%E2%80%93Altman_plot) ([Bland and Altman 1983](https://www users.york.ac.uk/~mb55/meas/ab83.pdf)).\n",
    "\n",
    "See also\n",
    "* [Method comparison with Bland-Altman analysis (video)](https://youtu.be/PbSrSupnZFQ)"
   ]
  },
  {
   "cell_type": "code",
   "execution_count": 1,
   "metadata": {},
   "outputs": [],
   "source": [
    "import numpy as np\n",
    "import matplotlib.pyplot as plt\n",
    "import pandas as pd\n",
    "from scipy import stats"
   ]
  },
  {
   "cell_type": "markdown",
   "metadata": {},
   "source": [
    "## Comparison of means\n",
    "When comparing measurement methods, a first step might be to calculate the mean value for two lists of measurement determined by different methods."
   ]
  },
  {
   "cell_type": "code",
   "execution_count": 2,
   "metadata": {},
   "outputs": [
    {
     "data": {
      "text/html": [
       "<div>\n",
       "<style scoped>\n",
       "    .dataframe tbody tr th:only-of-type {\n",
       "        vertical-align: middle;\n",
       "    }\n",
       "\n",
       "    .dataframe tbody tr th {\n",
       "        vertical-align: top;\n",
       "    }\n",
       "\n",
       "    .dataframe thead th {\n",
       "        text-align: right;\n",
       "    }\n",
       "</style>\n",
       "<table border=\"1\" class=\"dataframe\">\n",
       "  <thead>\n",
       "    <tr style=\"text-align: right;\">\n",
       "      <th></th>\n",
       "      <th>A</th>\n",
       "      <th>B</th>\n",
       "    </tr>\n",
       "  </thead>\n",
       "  <tbody>\n",
       "    <tr>\n",
       "      <th>0</th>\n",
       "      <td>1</td>\n",
       "      <td>4</td>\n",
       "    </tr>\n",
       "    <tr>\n",
       "      <th>1</th>\n",
       "      <td>9</td>\n",
       "      <td>5</td>\n",
       "    </tr>\n",
       "    <tr>\n",
       "      <th>2</th>\n",
       "      <td>7</td>\n",
       "      <td>5</td>\n",
       "    </tr>\n",
       "    <tr>\n",
       "      <th>3</th>\n",
       "      <td>1</td>\n",
       "      <td>7</td>\n",
       "    </tr>\n",
       "    <tr>\n",
       "      <th>4</th>\n",
       "      <td>2</td>\n",
       "      <td>4</td>\n",
       "    </tr>\n",
       "    <tr>\n",
       "      <th>5</th>\n",
       "      <td>8</td>\n",
       "      <td>5</td>\n",
       "    </tr>\n",
       "    <tr>\n",
       "      <th>6</th>\n",
       "      <td>9</td>\n",
       "      <td>4</td>\n",
       "    </tr>\n",
       "    <tr>\n",
       "      <th>7</th>\n",
       "      <td>2</td>\n",
       "      <td>6</td>\n",
       "    </tr>\n",
       "    <tr>\n",
       "      <th>8</th>\n",
       "      <td>1</td>\n",
       "      <td>6</td>\n",
       "    </tr>\n",
       "    <tr>\n",
       "      <th>9</th>\n",
       "      <td>7</td>\n",
       "      <td>5</td>\n",
       "    </tr>\n",
       "    <tr>\n",
       "      <th>10</th>\n",
       "      <td>8</td>\n",
       "      <td>4</td>\n",
       "    </tr>\n",
       "  </tbody>\n",
       "</table>\n",
       "</div>"
      ],
      "text/plain": [
       "    A  B\n",
       "0   1  4\n",
       "1   9  5\n",
       "2   7  5\n",
       "3   1  7\n",
       "4   2  4\n",
       "5   8  5\n",
       "6   9  4\n",
       "7   2  6\n",
       "8   1  6\n",
       "9   7  5\n",
       "10  8  4"
      ]
     },
     "execution_count": 2,
     "metadata": {},
     "output_type": "execute_result"
    }
   ],
   "source": [
    "# make up some data\n",
    "measurement_A = [1, 9, 7, 1, 2, 8, 9, 2, 1, 7, 8]\n",
    "measurement_B = [4, 5, 5, 7, 4, 5, 4, 6, 6, 5, 4]\n",
    "\n",
    "# show measurements as table\n",
    "pd.DataFrame([measurement_A, measurement_B], [\"A\", \"B\"]).transpose()"
   ]
  },
  {
   "cell_type": "markdown",
   "metadata": {},
   "source": [
    "The mean of these two measurements lists is a necessary but not sufficient to proof that the two measurement methods are replaceable."
   ]
  },
  {
   "cell_type": "code",
   "execution_count": 3,
   "metadata": {},
   "outputs": [
    {
     "name": "stdout",
     "output_type": "stream",
     "text": [
      "Mean(A) = 5.0\n",
      "Mean(B) = 5.0\n"
     ]
    }
   ],
   "source": [
    "print(\"Mean(A) = \" + str(np.mean(measurement_A)))\n",
    "print(\"Mean(B) = \" + str(np.mean(measurement_B)))"
   ]
  },
  {
   "cell_type": "markdown",
   "metadata": {},
   "source": [
    "However, when we look in more detail into the data, e.g. using a scatter plot, we will see that the methods are not producing similar values. For two methods that produce similar measurements, we would expect that the blue data points are on, or close by the orange line:"
   ]
  },
  {
   "cell_type": "code",
   "execution_count": 4,
   "metadata": {},
   "outputs": [
    {
     "data": {
      "image/png": "[encoded data removed]",
      "text/plain": [
       "<Figure size 432x288 with 1 Axes>"
      ]
     },
     "metadata": {
      "needs_background": "light"
     },
     "output_type": "display_data"
    }
   ],
   "source": [
    "plt.plot(measurement_A, measurement_B, \"*\")\n",
    "plt.plot([0, 10], [0, 10])\n",
    "plt.axis([0, 10, 0, 10])\n",
    "plt.show()"
   ]
  },
  {
   "cell_type": "markdown",
   "metadata": {},
   "source": [
    "For comparing data from two different source, it may also make sense to visualise the histograms of both:"
   ]
  },
  {
   "cell_type": "code",
   "execution_count": 5,
   "metadata": {},
   "outputs": [
    {
     "data": {
      "image/png": "[encoded data removed]",
      "text/plain": [
       "<Figure size 432x288 with 1 Axes>"
      ]
     },
     "metadata": {
      "needs_background": "light"
     },
     "output_type": "display_data"
    },
    {
     "data": {
      "image/png": "[encoded data removed]",
      "text/plain": [
       "<Figure size 432x288 with 1 Axes>"
      ]
     },
     "metadata": {
      "needs_background": "light"
     },
     "output_type": "display_data"
    }
   ],
   "source": [
    "def draw_histogram(data):\n",
    "    counts, bins = np.histogram(data, bins=10, range=(0,10))\n",
    "    plt.hist(bins[:-1], bins, weights=counts)\n",
    "    plt.axis([0, 10, 0, 4])\n",
    "    plt.show()\n",
    "    \n",
    "draw_histogram(measurement_A)\n",
    "draw_histogram(measurement_B)"
   ]
  },
  {
   "cell_type": "markdown",
   "metadata": {},
   "source": [
    "## Correlation\n",
    "In order to measure relationships between datasets, deatermining [correlation coefficients](https://en.wikipedia.org/wiki/Correlation_coefficient) might be useful.\n",
    "\n",
    "The data for the following experiment is taken from 1 Altman & Bland, The Statistician 32, 1983, Fig. 1."
   ]
  },
  {
   "cell_type": "code",
   "execution_count": 6,
   "metadata": {},
   "outputs": [
    {
     "data": {
      "image/png": "[encoded data removed]",
      "text/plain": [
       "<Figure size 432x288 with 1 Axes>"
      ]
     },
     "metadata": {
      "needs_background": "light"
     },
     "output_type": "display_data"
    }
   ],
   "source": [
    "measurement_1 = [130, 132, 138, 145, 148, 150, 155, 160, 161, 170, 175, 178, 182, 182, 188, 195, 195, 200, 200, 204, 210, 210, 215, 220, 200]\n",
    "measurement_2 = [122, 130, 135, 132, 140, 151, 145, 150, 160, 150, 160, 179, 168, 175, 187, 170, 182, 179, 195, 190, 180, 195, 210, 190, 200]\n",
    "\n",
    "plt.plot(measurement_1, measurement_2, \"o\")\n",
    "plt.plot([120, 220], [120, 220])\n",
    "plt.axis([120, 220, 120, 220])\n",
    "plt.show()"
   ]
  },
  {
   "cell_type": "markdown",
   "metadata": {},
   "source": [
    "To practice a bit python programming and for loops, we will calculate [Pearson's correlation coefficient](https://en.wikipedia.org/wiki/Pearson_correlation_coefficient):"
   ]
  },
  {
   "cell_type": "code",
   "execution_count": 7,
   "metadata": {},
   "outputs": [
    {
     "name": "stdout",
     "output_type": "stream",
     "text": [
      "r = 0.9435300113035253\n"
     ]
    }
   ],
   "source": [
    "# get the mean of the measurements\n",
    "mean_1 = np.mean(measurement_1)\n",
    "mean_2 = np.mean(measurement_2)\n",
    "\n",
    "# get the number of measurements\n",
    "n = len(measurement_1)\n",
    "\n",
    "# get the standard deviation of the measurements\n",
    "std_dev_1 = np.std(measurement_1)\n",
    "std_dev_2 = np.std(measurement_2)\n",
    "\n",
    "# sum the expectation of \n",
    "sum = 0\n",
    "for m_1, m_2 in zip(measurement_1, measurement_2):\n",
    "    sum = sum + (m_1 - mean_1) * (m_2 - mean_2) / n\n",
    "\n",
    "r = sum / (std_dev_1 * std_dev_2)\n",
    "\n",
    "print (\"r = \" + str(r))"
   ]
  },
  {
   "cell_type": "markdown",
   "metadata": {},
   "source": [
    "Of course, Python libraries exist which offer that functionality, for example [`scipy.stats.pearsonr()`](https://docs.scipy.org/doc/scipy/reference/generated/scipy.stats.pearsonr.html)."
   ]
  },
  {
   "cell_type": "code",
   "execution_count": 8,
   "metadata": {},
   "outputs": [
    {
     "data": {
      "text/plain": [
       "(0.9435300113035255, 1.6002440484659832e-12)"
      ]
     },
     "execution_count": 8,
     "metadata": {},
     "output_type": "execute_result"
    }
   ],
   "source": [
    "stats.pearsonr(measurement_1, measurement_2)"
   ]
  },
  {
   "cell_type": "markdown",
   "metadata": {},
   "source": [
    "## Bland-Altman plots\n",
    "In Bland-Altman plots, we visualize the averaged value of two measurements agains their difference. This is basically a titled and scaled version of the scatter plot with a focus on the region where the datapoint lies. In Blant-Altman plots, we typically find three horizontal lines: \n",
    "* The upper and lower lines frame the confidence interval in which the datapoints lie.\n",
    "* The center line visualizes the mean difference of both methods. If this line is close by zero, that means both methods on average produce the same value."
   ]
  },
  {
   "cell_type": "code",
   "execution_count": 9,
   "metadata": {},
   "outputs": [],
   "source": [
    "# A function for drawing Bland-Altman plots\n",
    "# source https://stackoverflow.com/questions/16399279/bland-altman-plot-in-python\n",
    "import matplotlib.pyplot as plt\n",
    "import numpy as np\n",
    "\n",
    "def bland_altman_plot(data1, data2, *args, **kwargs):\n",
    "    data1     = np.asarray(data1)\n",
    "    data2     = np.asarray(data2)\n",
    "    mean      = np.mean([data1, data2], axis=0)\n",
    "    diff      = data1 - data2                   # Difference between data1 and data2\n",
    "    md        = np.mean(diff)                   # Mean of the difference\n",
    "    sd        = np.std(diff, axis=0)            # Standard deviation of the difference\n",
    "\n",
    "    plt.scatter(mean, diff, *args, **kwargs)\n",
    "    plt.axhline(md,           color='gray', linestyle='--')\n",
    "    plt.axhline(md + 1.96*sd, color='gray', linestyle='--')\n",
    "    plt.axhline(md - 1.96*sd, color='gray', linestyle='--')"
   ]
  },
  {
   "cell_type": "code",
   "execution_count": 10,
   "metadata": {
    "scrolled": true
   },
   "outputs": [
    {
     "data": {
      "image/png": "[encoded data removed]",
      "text/plain": [
       "<Figure size 432x288 with 1 Axes>"
      ]
     },
     "metadata": {
      "needs_background": "light"
     },
     "output_type": "display_data"
    }
   ],
   "source": [
    "# draw a Bland-Altman plot\n",
    "bland_altman_plot(measurement_1, measurement_2)\n",
    "plt.show()"
   ]
  },
  {
   "cell_type": "code",
   "execution_count": 11,
   "metadata": {},
   "outputs": [
    {
     "data": {
      "image/png": "[encoded data removed]",
      "text/plain": [
       "<Figure size 432x288 with 1 Axes>"
      ]
     },
     "metadata": {
      "needs_background": "light"
     },
     "output_type": "display_data"
    }
   ],
   "source": [
    "# draw a modified Bland-Altman plot with an extended axis\n",
    "\n",
    "def bland_altman_plot_mod(data1, data2, *args, **kwargs):\n",
    "    data1     = np.asarray(data1)\n",
    "    data2     = np.asarray(data2)\n",
    "    mean      = np.mean([data1, data2], axis=0)\n",
    "    diff      = data1 - data2                   # Difference between data1 and data2\n",
    "    md        = np.mean(diff)                   # Mean of the difference\n",
    "    sd        = np.std(diff, axis=0)            # Standard deviation of the difference\n",
    "\n",
    "    plt.scatter(mean, diff, *args, **kwargs)\n",
    "    \n",
    "bland_altman_plot_mod(measurement_1, measurement_2)\n",
    "plt.axis([0, 250, -30, 30])\n",
    "plt.show()"
   ]
  },
  {
   "cell_type": "code",
   "execution_count": null,
   "metadata": {},
   "outputs": [],
   "source": []
  }
 ],
 "metadata": {
  "kernelspec": {
   "display_name": "Python 3 (ipykernel)",
   "language": "python",
   "name": "python3"
  },
  "language_info": {
   "codemirror_mode": {
    "name": "ipython",
    "version": 3
   },
   "file_extension": ".py",
   "mimetype": "text/x-python",
   "name": "python",
   "nbconvert_exporter": "python",
   "pygments_lexer": "ipython3",
   "version": "3.9.9"
  }
 },
 "nbformat": 4,
 "nbformat_minor": 4
}
