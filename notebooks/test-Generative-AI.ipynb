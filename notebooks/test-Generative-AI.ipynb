{
 "cells": [
  {
   "cell_type": "code",
   "execution_count": 3,
   "id": "a1d30a4d-c1ec-4312-9ecb-83ed58267566",
   "metadata": {
    "execution": {
     "iopub.execute_input": "2023-08-10T14:56:23.067949Z",
     "iopub.status.busy": "2023-08-10T14:56:23.067524Z",
     "iopub.status.idle": "2023-08-10T14:56:25.227522Z",
     "shell.execute_reply": "2023-08-10T14:56:25.225881Z",
     "shell.execute_reply.started": "2023-08-10T14:56:23.067900Z"
    },
    "tags": []
   },
   "outputs": [],
   "source": [
    "%load_ext jupyter_ai"
   ]
  },
  {
   "cell_type": "code",
   "execution_count": 7,
   "id": "00d56173-8558-488a-93d8-f35dc16f4023",
   "metadata": {
    "execution": {
     "iopub.execute_input": "2023-08-10T14:56:44.488973Z",
     "iopub.status.busy": "2023-08-10T14:56:44.488445Z",
     "iopub.status.idle": "2023-08-10T14:56:44.496686Z",
     "shell.execute_reply": "2023-08-10T14:56:44.495138Z",
     "shell.execute_reply.started": "2023-08-10T14:56:44.488939Z"
    },
    "tags": []
   },
   "outputs": [
    {
     "name": "stdout",
     "output_type": "stream",
     "text": [
      "env: OPENAI_API_KEY=<<use your OpenAI Key>>\n"
     ]
    }
   ],
   "source": [
    "%env OPENAI_API_KEY=<<use your OpenAI Key>>"
   ]
  },
  {
   "cell_type": "code",
   "execution_count": 5,
   "id": "35f28176-eff5-400b-8b1f-4df1a236d900",
   "metadata": {
    "execution": {
     "iopub.execute_input": "2023-08-10T14:56:25.238356Z",
     "iopub.status.busy": "2023-08-10T14:56:25.238084Z",
     "iopub.status.idle": "2023-08-10T14:56:27.867810Z",
     "shell.execute_reply": "2023-08-10T14:56:27.866404Z",
     "shell.execute_reply.started": "2023-08-10T14:56:25.238334Z"
    },
    "tags": []
   },
   "outputs": [
    {
     "data": {
      "text/latex": [
       "$\\displaystyle \\frac{\\partial u}{\\partial t} = \\alpha \\left( \\frac{\\partial^2 u}{\\partial x^2} + \\frac{\\partial^2 u}{\\partial y^2} \\right)$"
      ],
      "text/plain": [
       "<IPython.core.display.Math object>"
      ]
     },
     "execution_count": 5,
     "metadata": {
      "text/latex": {
       "jupyter_ai": {
        "model_id": "gpt-3.5-turbo",
        "provider_id": "openai-chat"
       }
      }
     },
     "output_type": "execute_result"
    }
   ],
   "source": [
    "%%ai chatgpt -f math\n",
    "Generate the 2D heat equation."
   ]
  },
  {
   "cell_type": "code",
   "execution_count": 6,
   "id": "fd0241c3-3cda-4e70-a16d-917236e169d4",
   "metadata": {
    "execution": {
     "iopub.execute_input": "2023-08-10T14:56:27.870234Z",
     "iopub.status.busy": "2023-08-10T14:56:27.869883Z",
     "iopub.status.idle": "2023-08-10T14:56:34.652074Z",
     "shell.execute_reply": "2023-08-10T14:56:34.650505Z",
     "shell.execute_reply.started": "2023-08-10T14:56:27.870205Z"
    },
    "tags": []
   },
   "outputs": [
    {
     "data": {
      "text/markdown": [
       "Here is an example program for plotting a heatmap using matplotlib in Python:\n",
       "\n",
       "```python\n",
       "import numpy as np\n",
       "import matplotlib.pyplot as plt\n",
       "\n",
       "# Generate data for heatmap\n",
       "data = np.random.rand(10, 10)\n",
       "\n",
       "# Plotting the heatmap\n",
       "plt.imshow(data, cmap='hot', interpolation='nearest')\n",
       "\n",
       "# Customize the plot\n",
       "plt.colorbar()\n",
       "plt.title(\"Heatmap\")\n",
       "plt.xlabel(\"X-axis\")\n",
       "plt.ylabel(\"Y-axis\")\n",
       "\n",
       "# Display the plot\n",
       "plt.show()\n",
       "```\n",
       "\n",
       "This program generates random data to create a 10x10 heatmap. It uses the `imshow` function from matplotlib to plot the heatmap and the `colorbar` function to add a color bar legend. The title, x-axis label, and y-axis label are customized using the corresponding functions. Finally, the `show` function is used to display the plot."
      ],
      "text/plain": [
       "<IPython.core.display.Markdown object>"
      ]
     },
     "execution_count": 6,
     "metadata": {
      "text/markdown": {
       "jupyter_ai": {
        "model_id": "gpt-3.5-turbo",
        "provider_id": "openai-chat"
       }
      }
     },
     "output_type": "execute_result"
    }
   ],
   "source": [
    "%%ai chatgpt\n",
    "Write a program for plotting heatmap using matplotlib"
   ]
  },
  {
   "cell_type": "code",
   "execution_count": null,
   "id": "aa7d0016-991f-42a6-a0a1-6ddd8c8f775e",
   "metadata": {
    "tags": []
   },
   "outputs": [],
   "source": []
  },
  {
   "cell_type": "code",
   "execution_count": null,
   "id": "b240ea4d-d29d-4315-bcb8-9192c06bf80c",
   "metadata": {},
   "outputs": [],
   "source": []
  }
 ],
 "metadata": {
  "kernelspec": {
   "display_name": "Python 3 (ipykernel)",
   "language": "python",
   "name": "python3"
  },
  "language_info": {
   "codemirror_mode": {
    "name": "ipython",
    "version": 3
   },
   "file_extension": ".py",
   "mimetype": "text/x-python",
   "name": "python",
   "nbconvert_exporter": "python",
   "pygments_lexer": "ipython3",
   "version": "3.9.17"
  }
 },
 "nbformat": 4,
 "nbformat_minor": 5
}
