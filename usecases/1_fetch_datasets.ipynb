{
 "cells": [
  {
   "cell_type": "code",
   "execution_count": 5,
   "id": "213bc4dd-da83-49f6-b077-cf81041b6ca2",
   "metadata": {},
   "outputs": [],
   "source": [
    "import os\n",
    "import requests"
   ]
  },
  {
   "cell_type": "code",
   "execution_count": 6,
   "id": "212862e6-42ad-40ed-9224-d7fdd4856204",
   "metadata": {},
   "outputs": [],
   "source": [
    "path_dataset = \"https://zenodo.org/record/6091361/files/combined_CT_datasets.h5?download=1\"\n",
    "path_trained_model = \"https://zenodo.org/record/6091361/files/ct_seg_model.onnx?download=1\""
   ]
  },
  {
   "cell_type": "code",
   "execution_count": 7,
   "id": "2d672b64-4593-4082-a607-c9b4846b70c3",
   "metadata": {},
   "outputs": [],
   "source": [
    "## create folders\n",
    "if not os.path.exists('h5_datasets'):\n",
    "    os.makedirs('h5_datasets')\n",
    "\n",
    "if not os.path.exists('onnx_loaded_model'):\n",
    "    os.makedirs('onnx_loaded_model')"
   ]
  },
  {
   "cell_type": "code",
   "execution_count": 8,
   "id": "d53677a3-ba1e-4c1c-afe6-5343bda1e419",
   "metadata": {},
   "outputs": [
    {
     "data": {
      "text/plain": [
       "138068465"
      ]
     },
     "execution_count": 8,
     "metadata": {},
     "output_type": "execute_result"
    }
   ],
   "source": [
    "## download and save trained model\n",
    "r = requests.get(path_trained_model, allow_redirects=True)\n",
    "open('onnx_loaded_model/ct_seg_model.onnx', 'wb').write(r.content)"
   ]
  },
  {
   "cell_type": "code",
   "execution_count": 9,
   "id": "5c7481da-6538-42f6-b87e-edd03a0f4901",
   "metadata": {},
   "outputs": [
    {
     "data": {
      "text/plain": [
       "295505920"
      ]
     },
     "execution_count": 9,
     "metadata": {},
     "output_type": "execute_result"
    }
   ],
   "source": [
    "## download and save dataset\n",
    "r = requests.get(path_dataset, allow_redirects=True)\n",
    "open('h5_datasets/combined_CT_datasets.h5', 'wb').write(r.content)"
   ]
  },
  {
   "cell_type": "code",
   "execution_count": null,
   "id": "e1296a8c-1e2c-469c-b0b6-86acd51020b9",
   "metadata": {},
   "outputs": [],
   "source": []
  }
 ],
 "metadata": {
  "kernelspec": {
   "display_name": "Python 3 (ipykernel)",
   "language": "python",
   "name": "python3"
  },
  "language_info": {
   "codemirror_mode": {
    "name": "ipython",
    "version": 3
   },
   "file_extension": ".py",
   "mimetype": "text/x-python",
   "name": "python",
   "nbconvert_exporter": "python",
   "pygments_lexer": "ipython3",
   "version": "3.9.6"
  }
 },
 "nbformat": 4,
 "nbformat_minor": 5
}
