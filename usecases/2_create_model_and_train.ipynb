{
 "cells": [
  {
   "cell_type": "code",
   "execution_count": 2,
   "id": "079489b9-1eac-4dfc-891a-8aa7fa8b0bde",
   "metadata": {
    "execution": {
     "iopub.execute_input": "2023-01-18T10:02:31.264802Z",
     "iopub.status.busy": "2023-01-18T10:02:31.264225Z",
     "iopub.status.idle": "2023-01-18T10:02:35.321041Z",
     "shell.execute_reply": "2023-01-18T10:02:35.319708Z",
     "shell.execute_reply.started": "2023-01-18T10:02:31.264770Z"
    }
   },
   "outputs": [],
   "source": [
    "import os\n",
    "import sys\n",
    "import  time\n",
    "import random\n",
    "from itertools import chain\n",
    "import numpy as np\n",
    "from PIL import Image\n",
    "import matplotlib.pyplot as plt\n",
    "plt.style.use(\"ggplot\")\n",
    "\n",
    "import tensorflow as tf\n",
    "from tensorflow.keras import backend as K\n",
    "from tensorflow.keras.layers import Input\n",
    "from tensorflow.keras.callbacks import EarlyStopping, ModelCheckpoint, ReduceLROnPlateau\n",
    "from tensorflow.keras.optimizers import Adam\n",
    "from tensorflow.keras.losses import binary_crossentropy\n",
    "from tensorflow.keras.models import Model\n",
    "from tensorflow.keras.layers import BatchNormalization, Activation, Dropout, Dense\n",
    "from tensorflow.keras.layers import Conv2D, Conv2DTranspose\n",
    "from tensorflow.keras.layers import MaxPooling2D\n",
    "from tensorflow.keras.layers import concatenate\n",
    "from tensorflow.keras.metrics import Recall, Precision\n",
    "\n",
    "from skimage.io import imread\n",
    "from skimage.transform import resize\n",
    "from sklearn.model_selection import train_test_split\n",
    "from skimage.io import imread, imshow\n",
    "\n",
    "import h5py"
   ]
  },
  {
   "cell_type": "code",
   "execution_count": 3,
   "id": "64719a2d-7339-46d6-996a-3bc25b7292ad",
   "metadata": {
    "execution": {
     "iopub.execute_input": "2023-01-18T10:02:35.323941Z",
     "iopub.status.busy": "2023-01-18T10:02:35.323285Z",
     "iopub.status.idle": "2023-01-18T10:02:35.343324Z",
     "shell.execute_reply": "2023-01-18T10:02:35.342280Z",
     "shell.execute_reply.started": "2023-01-18T10:02:35.323914Z"
    }
   },
   "outputs": [],
   "source": [
    "im_width = 128\n",
    "im_height = 128\n",
    "n_epochs = 10\n",
    "batch_size = 32\n",
    "num_class = 2\n",
    "\n",
    "def conv2d_block(input_tensor, n_filters, kernel_size = 3, batchnorm = True):\n",
    "    \"\"\"Function to add 2 convolutional layers with the parameters passed to it\"\"\"\n",
    "    # first layer\n",
    "    x = Conv2D(filters = n_filters, kernel_size = (kernel_size, kernel_size),\\\n",
    "              kernel_initializer = 'he_normal', padding = 'same')(input_tensor)\n",
    "    if batchnorm:\n",
    "        x = BatchNormalization()(x)\n",
    "    x = Activation('relu')(x)\n",
    "    \n",
    "    # second layer\n",
    "    x = Conv2D(filters = n_filters, kernel_size = (kernel_size, kernel_size),\\\n",
    "              kernel_initializer = 'he_normal', padding = 'same')(x)\n",
    "    if batchnorm:\n",
    "        x = BatchNormalization()(x)\n",
    "    x = Activation('relu')(x)\n",
    "    return x\n",
    "\n",
    "\n",
    "def get_unet(input_img, n_filters = 64, dropout = 0.2, batchnorm = True):\n",
    "    \"\"\"Function to define the UNET Model\"\"\"\n",
    "    # Contracting Path\n",
    "    c1 = conv2d_block(input_img, n_filters * 1, kernel_size = 3, batchnorm = batchnorm)\n",
    "    p1 = MaxPooling2D((2, 2))(c1)\n",
    "    p1 = Dropout(dropout)(p1)\n",
    "    \n",
    "    c2 = conv2d_block(p1, n_filters * 2, kernel_size = 3, batchnorm = batchnorm)\n",
    "    p2 = MaxPooling2D((2, 2))(c2)\n",
    "    p2 = Dropout(dropout)(p2)\n",
    "    \n",
    "    c3 = conv2d_block(p2, n_filters * 4, kernel_size = 3, batchnorm = batchnorm)\n",
    "    p3 = MaxPooling2D((2, 2))(c3)\n",
    "    p3 = Dropout(dropout)(p3)\n",
    "    \n",
    "    c4 = conv2d_block(p3, n_filters * 8, kernel_size = 3, batchnorm = batchnorm)\n",
    "    p4 = MaxPooling2D((2, 2))(c4)\n",
    "    p4 = Dropout(dropout)(p4)\n",
    "    \n",
    "    c5 = conv2d_block(p4, n_filters = n_filters * 16, kernel_size = 3, batchnorm = batchnorm)\n",
    "    \n",
    "    # Expansive Path\n",
    "    u6 = Conv2DTranspose(n_filters * 8, (3, 3), strides = (2, 2), padding = 'same')(c5)\n",
    "    u6 = concatenate([u6, c4])\n",
    "    u6 = Dropout(dropout)(u6)\n",
    "    c6 = conv2d_block(u6, n_filters * 8, kernel_size = 3, batchnorm = batchnorm)\n",
    "    \n",
    "    u7 = Conv2DTranspose(n_filters * 4, (3, 3), strides = (2, 2), padding = 'same')(c6)\n",
    "    u7 = concatenate([u7, c3])\n",
    "    u7 = Dropout(dropout)(u7)\n",
    "    c7 = conv2d_block(u7, n_filters * 4, kernel_size = 3, batchnorm = batchnorm)\n",
    "    \n",
    "    u8 = Conv2DTranspose(n_filters * 2, (3, 3), strides = (2, 2), padding = 'same')(c7)\n",
    "    u8 = concatenate([u8, c2])\n",
    "    u8 = Dropout(dropout)(u8)\n",
    "    c8 = conv2d_block(u8, n_filters * 2, kernel_size = 3, batchnorm = batchnorm)\n",
    "    \n",
    "    u9 = Conv2DTranspose(n_filters * 1, (3, 3), strides = (2, 2), padding = 'same')(c8)\n",
    "    u9 = concatenate([u9, c1])\n",
    "    u9 = Dropout(dropout)(u9)\n",
    "    c9 = conv2d_block(u9, n_filters * 1, kernel_size = 3, batchnorm = batchnorm)\n",
    "    \n",
    "    outputs = Conv2D(num_class, (1, 1), activation='sigmoid')(c9)\n",
    "    model = Model(inputs=[input_img], outputs=[outputs])\n",
    "    return model\n",
    "\n",
    "\n",
    "def TV_bin_loss(y_true, y_pred):\n",
    "    y_true_f = K.flatten(y_true)\n",
    "    y_pred_f = K.flatten(y_pred)\n",
    "    bin_loss = binary_crossentropy(y_true_f, y_pred_f)\n",
    "    images = y_pred[: : ,: ,1]\n",
    "    value = tf.reduce_mean(tf.abs(images[:,1:,:] - images[:,:-1,:])) + tf.reduce_mean(tf.abs(images[:,:,1:] - images[:,:,:-1]))\n",
    "    return 2.4e-7*value + bin_loss\n",
    "\n",
    "\n",
    "def dice_coef(y_pred, y_true):\n",
    "    y_true_f = K.flatten(y_true)\n",
    "    y_pred_f = K.flatten(y_pred)\n",
    "    intersection = K.sum(y_true_f * y_pred_f)\n",
    "    return (2. * intersection + 0.0001) / (K.sum(y_true_f) + K.sum(y_pred_f) + 0.0001)\n",
    "\n",
    "\n",
    "def dice_loss(y_true, y_pred):\n",
    "    return 1 - dice_coef(y_true, y_pred)\n",
    "\n",
    "\n",
    "def custom_loss(y_true, y_pred):\n",
    "    layer_names=[layer.name for layer in model.layers]\n",
    "    for l in layer_names:\n",
    "        if l==layer_names[-1]:\n",
    "            value = TV_bin_loss(y_true, y_pred)\n",
    "        else:\n",
    "            value = binary_crossentropy(K.flatten(y_true),K.flatten(y_pred))\n",
    "    return value"
   ]
  },
  {
   "cell_type": "code",
   "execution_count": 4,
   "id": "67d72c01-7c5d-43eb-a72b-19a537a395cc",
   "metadata": {
    "execution": {
     "iopub.execute_input": "2023-01-18T10:02:35.344858Z",
     "iopub.status.busy": "2023-01-18T10:02:35.344555Z",
     "iopub.status.idle": "2023-01-18T10:02:36.191346Z",
     "shell.execute_reply": "2023-01-18T10:02:36.190304Z",
     "shell.execute_reply.started": "2023-01-18T10:02:35.344836Z"
    }
   },
   "outputs": [],
   "source": [
    "combined_data = h5py.File(\"h5_datasets/combined_CT_datasets.h5\", \"r\")\n",
    "\n",
    "X_train = np.array(combined_data[\"X_train\"])\n",
    "X_valid = np.array(combined_data[\"X_valid\"])\n",
    "y_train = np.array(combined_data[\"y_train\"])\n",
    "y_valid = np.array(combined_data[\"y_valid\"])"
   ]
  },
  {
   "cell_type": "code",
   "execution_count": 5,
   "id": "d66b655e-30d8-4cf8-9fd6-24f424a3dc2c",
   "metadata": {
    "execution": {
     "iopub.execute_input": "2023-01-18T10:02:36.192731Z",
     "iopub.status.busy": "2023-01-18T10:02:36.192489Z",
     "iopub.status.idle": "2023-01-18T10:03:26.755479Z",
     "shell.execute_reply": "2023-01-18T10:03:26.753750Z",
     "shell.execute_reply.started": "2023-01-18T10:02:36.192707Z"
    }
   },
   "outputs": [
    {
     "name": "stderr",
     "output_type": "stream",
     "text": [
      "2023-01-18 10:02:47.069370: W tensorflow/stream_executor/gpu/asm_compiler.cc:80] Couldn't get ptxas version string: INTERNAL: Couldn't invoke ptxas --version\n",
      "2023-01-18 10:02:47.071009: W tensorflow/stream_executor/gpu/redzone_allocator.cc:314] INTERNAL: Failed to launch ptxas\n",
      "Relying on driver to perform ptx compilation. \n",
      "Modify $PATH to customize ptxas location.\n",
      "This message will be only logged once.\n"
     ]
    },
    {
     "name": "stdout",
     "output_type": "stream",
     "text": [
      "41/41 [==============================] - ETA: 0s - loss: 0.3341 - accuracy: 0.9056 - dice_loss: 0.2509 - recall_1: 0.8952 - pre_1: 0.9089\n",
      "Epoch 00001: val_loss improved from inf to 1.97107, saving model to model-TV-UNet1.h5\n",
      "41/41 [==============================] - 48s 792ms/step - loss: 0.3341 - accuracy: 0.9056 - dice_loss: 0.2509 - recall_1: 0.8952 - pre_1: 0.9089 - val_loss: 1.9711 - val_accuracy: 0.6539 - val_dice_loss: 0.3215 - val_recall_1: 0.8696 - val_pre_1: 0.6059 - lr: 0.0010\n"
     ]
    }
   ],
   "source": [
    "input_img = Input((im_height, im_width, 1), name='img')\n",
    "model = get_unet(input_img, n_filters=64, dropout=0.2, batchnorm=True)\n",
    "model.compile(optimizer=Adam(learning_rate=0.001), loss=[custom_loss], metrics=['accuracy', dice_loss, Recall(name='recall_1'), Precision(name='pre_1')])\n",
    "\n",
    "callbacks = [\n",
    "    EarlyStopping(patience=50, verbose=1),\n",
    "    ReduceLROnPlateau(factor=0.1, patience=5, min_lr=0.00001, verbose=1),\n",
    "    ModelCheckpoint('model-TV-UNet1.h5', verbose=1, save_best_only=True, save_weights_only=True)\n",
    "]\n",
    "\n",
    "results = model.fit(X_train, y_train, batch_size=batch_size, epochs=n_epochs, callbacks=callbacks, validation_data=(X_valid, y_valid))"
   ]
  },
  {
   "cell_type": "code",
   "execution_count": 6,
   "id": "dce9ac48-b9be-4d11-9ce1-0b1412d213dc",
   "metadata": {
    "execution": {
     "iopub.execute_input": "2023-01-18T10:03:26.759364Z",
     "iopub.status.busy": "2023-01-18T10:03:26.758907Z",
     "iopub.status.idle": "2023-01-18T10:03:40.190762Z",
     "shell.execute_reply": "2023-01-18T10:03:40.189370Z",
     "shell.execute_reply.started": "2023-01-18T10:03:26.759328Z"
    }
   },
   "outputs": [
    {
     "name": "stderr",
     "output_type": "stream",
     "text": [
      "2023-01-18 10:03:31.001440: W tensorflow/python/util/util.cc:368] Sets are not currently considered sequences, but this may change in the future, so consider avoiding using them.\n"
     ]
    },
    {
     "name": "stdout",
     "output_type": "stream",
     "text": [
      "INFO:tensorflow:Assets written to: tf_model/assets\n"
     ]
    },
    {
     "name": "stderr",
     "output_type": "stream",
     "text": [
      "INFO:tensorflow:Assets written to: tf_model/assets\n"
     ]
    }
   ],
   "source": [
    "## save model as ONNX\n",
    "\n",
    "if not os.path.exists('tf_model'):\n",
    "    os.makedirs('tf_model')\n",
    "\n",
    "if not os.path.exists('onnx_trained_model'):\n",
    "    os.makedirs('onnx_trained_model')\n",
    "\n",
    "tf.saved_model.save(model, 'tf_model')"
   ]
  },
  {
   "cell_type": "code",
   "execution_count": 7,
   "id": "5fd6ec2d-eae9-4946-9087-9376e5f75e71",
   "metadata": {
    "execution": {
     "iopub.execute_input": "2023-01-18T10:03:40.220903Z",
     "iopub.status.busy": "2023-01-18T10:03:40.220559Z",
     "iopub.status.idle": "2023-01-18T10:04:15.271744Z",
     "shell.execute_reply": "2023-01-18T10:04:15.270494Z",
     "shell.execute_reply.started": "2023-01-18T10:03:40.220867Z"
    }
   },
   "outputs": [
    {
     "name": "stderr",
     "output_type": "stream",
     "text": [
      "/opt/conda/lib/python3.8/runpy.py:127: RuntimeWarning: 'tf2onnx.convert' found in sys.modules after import of package 'tf2onnx', but prior to execution of 'tf2onnx.convert'; this may result in unpredictable behaviour\n",
      "  warn(RuntimeWarning(msg))\n",
      "2023-01-18 10:03:44,791 - WARNING - '--tag' not specified for saved_model. Using --tag serve\n",
      "2023-01-18 10:03:49,305 - INFO - Signatures found in model: [serving_default].\n",
      "2023-01-18 10:03:49,305 - WARNING - '--signature_def' not specified, using first signature: serving_default\n",
      "2023-01-18 10:03:49,305 - INFO - Output names: ['conv2d_18']\n",
      "2023-01-18 10:03:56,705 - INFO - Using tensorflow=2.7.0, onnx=1.12.0, tf2onnx=1.13.0/2c1db5\n",
      "2023-01-18 10:03:56,705 - INFO - Using opset <onnx, 14>\n",
      "2023-01-18 10:04:05,815 - INFO - Computed 0 values for constant folding\n",
      "2023-01-18 10:04:12,345 - INFO - Optimizing ONNX model\n",
      "2023-01-18 10:04:13,105 - INFO - After optimization: BatchNormalization -18 (18->0), Cast -4 (4->0), Concat -4 (8->4), Const -131 (178->47), Identity -2 (2->0), Reshape +1 (0->1), Shape -4 (4->0), Slice -4 (4->0), Squeeze -4 (4->0), Transpose -89 (90->1), Unsqueeze -16 (16->0)\n",
      "2023-01-18 10:04:13,266 - INFO - \n",
      "2023-01-18 10:04:13,267 - INFO - Successfully converted TensorFlow model tf_model to ONNX\n",
      "2023-01-18 10:04:13,267 - INFO - Model inputs: ['img']\n",
      "2023-01-18 10:04:13,267 - INFO - Model outputs: ['conv2d_18']\n",
      "2023-01-18 10:04:13,267 - INFO - ONNX model is saved at onnx_trained_model/ct_seg_model.onnx\n"
     ]
    }
   ],
   "source": [
    "%%bash\n",
    "\n",
    "python -m tf2onnx.convert --saved-model tf_model --output onnx_trained_model/ct_seg_model.onnx --opset 14"
   ]
  },
  {
   "cell_type": "code",
   "execution_count": 8,
   "id": "ffc5bca0-c0a8-468c-94f3-84f66dda780b",
   "metadata": {
    "execution": {
     "iopub.execute_input": "2023-01-18T10:04:15.273721Z",
     "iopub.status.busy": "2023-01-18T10:04:15.273423Z",
     "iopub.status.idle": "2023-01-18T10:04:16.312111Z",
     "shell.execute_reply": "2023-01-18T10:04:16.310856Z",
     "shell.execute_reply.started": "2023-01-18T10:04:15.273691Z"
    }
   },
   "outputs": [],
   "source": [
    "# Release GPU memory\n",
    "gpu = tf.config.list_physical_devices('GPU')\n",
    "if len(gpu) > 0:\n",
    "    from numba import cuda\n",
    "    cuda.select_device(0)\n",
    "    cuda.close()"
   ]
  },
  {
   "cell_type": "code",
   "execution_count": null,
   "id": "beaa091d-702e-406a-87e7-41cbd483d3b4",
   "metadata": {},
   "outputs": [],
   "source": []
  },
  {
   "cell_type": "code",
   "execution_count": null,
   "id": "34e48809-0fba-4377-a190-0ce4c77c600f",
   "metadata": {},
   "outputs": [],
   "source": []
  }
 ],
 "metadata": {
  "kernelspec": {
   "display_name": "Python 3 (ipykernel)",
   "language": "python",
   "name": "python3"
  },
  "language_info": {
   "codemirror_mode": {
    "name": "ipython",
    "version": 3
   },
   "file_extension": ".py",
   "mimetype": "text/x-python",
   "name": "python",
   "nbconvert_exporter": "python",
   "pygments_lexer": "ipython3",
   "version": "3.8.16"
  }
 },
 "nbformat": 4,
 "nbformat_minor": 5
}
