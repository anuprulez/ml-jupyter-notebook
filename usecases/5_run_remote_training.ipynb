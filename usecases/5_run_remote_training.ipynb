{
 "cells": [
  {
   "cell_type": "code",
   "execution_count": 1,
   "id": "213bc4dd-da83-49f6-b077-cf81041b6ca2",
   "metadata": {},
   "outputs": [],
   "source": [
    "import os\n",
    "API_KEY = os.environ.get('API_KEY', None)\n",
    "GALAXY_URL = os.environ.get('GALAXY_URL', None)"
   ]
  },
  {
   "cell_type": "code",
   "execution_count": 2,
   "id": "212862e6-42ad-40ed-9224-d7fdd4856204",
   "metadata": {},
   "outputs": [],
   "source": [
    "script_path = \"4_create_model_and_train_remote.ipynb\""
   ]
  },
  {
   "cell_type": "code",
   "execution_count": null,
   "id": "2d672b64-4593-4082-a607-c9b4846b70c3",
   "metadata": {},
   "outputs": [
    {
     "name": "stdout",
     "output_type": "stream",
     "text": [
      "Data file uploaded\n",
      "Uploaded code\n"
     ]
    }
   ],
   "source": [
    "data_list = [\"h5_datasets/combined_CT_datasets.h5\"]\n",
    "tool_output = run_script_job(script_path, data_dict=data_list, server=GALAXY_URL, key=API_KEY, new_history_name=\"CT_segmentation_march_18\")"
   ]
  },
  {
   "cell_type": "code",
   "execution_count": 4,
   "id": "e1296a8c-1e2c-469c-b0b6-86acd51020b9",
   "metadata": {},
   "outputs": [],
   "source": []
  },
  {
   "cell_type": "code",
   "execution_count": null,
   "id": "d5a8caa2-35cc-454a-b181-a1a48262040d",
   "metadata": {},
   "outputs": [],
   "source": []
  }
 ],
 "metadata": {
  "kernelspec": {
   "display_name": "Python 3 (ipykernel)",
   "language": "python",
   "name": "python3"
  },
  "language_info": {
   "codemirror_mode": {
    "name": "ipython",
    "version": 3
   },
   "file_extension": ".py",
   "mimetype": "text/x-python",
   "name": "python",
   "nbconvert_exporter": "python",
   "pygments_lexer": "ipython3",
   "version": "3.9.6"
  }
 },
 "nbformat": 4,
 "nbformat_minor": 5
}
