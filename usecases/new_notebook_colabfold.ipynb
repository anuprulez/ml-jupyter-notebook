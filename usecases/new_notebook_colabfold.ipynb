{
 "cells": [
  {
   "cell_type": "code",
   "execution_count": 10,
   "id": "7bcabea5-3cba-4eb0-a12a-29c247232752",
   "metadata": {
    "tags": []
   },
   "outputs": [
    {
     "name": "stderr",
     "output_type": "stream",
     "text": [
      "2023-08-11 09:42:34.749312: W tensorflow/stream_executor/platform/default/dso_loader.cc:64] Could not load dynamic library 'libcuda.so.1'; dlerror: libcuda.so.1: cannot open shared object file: No such file or directory; LD_LIBRARY_PATH: /usr/local/nvidia/lib:/usr/local/nvidia/lib64\n",
      "2023-08-11 09:42:34.749377: W tensorflow/stream_executor/cuda/cuda_driver.cc:269] failed call to cuInit: UNKNOWN ERROR (303)\n"
     ]
    },
    {
     "data": {
      "text/plain": [
       "([], '2.7.0')"
      ]
     },
     "execution_count": 10,
     "metadata": {},
     "output_type": "execute_result"
    }
   ],
   "source": [
    "import tensorflow as tf\n",
    "gpu = tf.config.list_physical_devices('GPU')\n",
    "gpu, tf.__version__"
   ]
  },
  {
   "cell_type": "code",
   "execution_count": 11,
   "id": "e054934b-cace-4ad8-b150-13d5b770bc8a",
   "metadata": {
    "tags": []
   },
   "outputs": [],
   "source": [
    "import os.path\n",
    "import re\n",
    "import hashlib\n",
    "import random\n",
    "\n",
    "def add_hash(x,y):\n",
    "  return x+\"_\"+hashlib.sha1(y.encode()).hexdigest()[:5]\n",
    "\n",
    "query_sequence = 'PIAQIHILEGRSDEQKETLIREVSEAISRSLDAPLTSVRVIITEMAKGHFGIGGELASK'\n",
    "query_sequence = \"\".join(query_sequence.split())\n",
    "\n",
    "jobname = 'test' #@param {type:\"string\"}\n",
    "jobname = \"\".join(jobname.split())\n",
    "jobname = re.sub(r'\\W+', '', jobname)\n",
    "jobname = add_hash(jobname, query_sequence)\n",
    "\n",
    "\n",
    "with open(f\"{jobname}.csv\", \"w\") as text_file:\n",
    "    text_file.write(f\"id,sequence\\n{jobname},{query_sequence}\")\n",
    "\n",
    "queries_path=f\"{jobname}.csv\"\n",
    "\n",
    "msa_mode = \"MMseqs2 (UniRef+Environmental)\" #@param [\"MMseqs2 (UniRef+Environmental)\", \"MMseqs2 (UniRef only)\",\"single_sequence\",\"custom\"]\n",
    "num_models = 1 #@param [1,2,3,4,5] {type:\"raw\"}\n",
    "num_recycles = 1 #@param [1,3,6,12,24,48] {type:\"raw\"}\n",
    "use_msa = True if msa_mode.startswith(\"MMseqs2\") else False\n",
    "use_env = True if msa_mode == \"MMseqs2 (UniRef+Environmental)\" else False\n",
    "use_amber = False #@param {type:\"boolean\"}\n",
    "use_templates = False #@param {type:\"boolean\"}\n",
    "\n",
    "# decide which a3m to use\n",
    "if use_msa:\n",
    "  a3m_file = f\"{jobname}.a3m\"\n",
    "elif msa_mode == \"custom\":\n",
    "  a3m_file = f\"{jobname}.custom.a3m\"\n",
    "  if not os.path.isfile(a3m_file):\n",
    "    custom_msa_dict = files.upload()\n",
    "    custom_msa = list(custom_msa_dict.keys())[0]\n",
    "    header = 0\n",
    "    import fileinput\n",
    "    for line in fileinput.FileInput(custom_msa,inplace=1):\n",
    "      if line.startswith(\">\"):\n",
    "         header = header + 1\n",
    "      if line.startswith(\"#\"):\n",
    "        continue\n",
    "      if not line.rstrip():\n",
    "        continue\n",
    "      if line.startswith(\">\") == False and header == 1:\n",
    "         query_sequence = line.rstrip()\n",
    "      print(line, end='')\n",
    "\n",
    "    os.rename(custom_msa, a3m_file)\n",
    "    queries_path=a3m_file\n",
    "    print(f\"moving {custom_msa} to {a3m_file}\")\n",
    "else:\n",
    "  a3m_file = f\"{jobname}.single_sequence.a3m\"\n",
    "  with open(a3m_file, \"w\") as text_file:\n",
    "    text_file.write(\">1\\n%s\" % query_sequence)"
   ]
  },
  {
   "cell_type": "code",
   "execution_count": null,
   "id": "f76c6ece-b829-4270-93b6-473b5be59245",
   "metadata": {
    "tags": []
   },
   "outputs": [
    {
     "name": "stderr",
     "output_type": "stream",
     "text": [
      "/opt/conda/lib/python3.9/site-packages/Bio/Data/SCOPData.py:18: BiopythonDeprecationWarning: The 'Bio.Data.SCOPData' module will be deprecated in a future release of Biopython in favor of 'Bio.Data.PDBData.\n",
      "  warnings.warn(\n",
      "2023-08-11 09:42:34.985268: W external/org_tensorflow/tensorflow/stream_executor/platform/default/dso_loader.cc:64] Could not load dynamic library 'libcuda.so.1'; dlerror: libcuda.so.1: cannot open shared object file: No such file or directory; LD_LIBRARY_PATH: /usr/local/nvidia/lib:/usr/local/nvidia/lib64\n",
      "2023-08-11 09:42:34.985333: W external/org_tensorflow/tensorflow/stream_executor/cuda/cuda_driver.cc:269] failed call to cuInit: UNKNOWN ERROR (303)\n"
     ]
    },
    {
     "name": "stdout",
     "output_type": "stream",
     "text": [
      "2023-08-11 09:42:34,935 Found 5 citations for tools or databases\n",
      "2023-08-11 09:42:41,321 Query 1/1: test_a5e17 (length 59)\n",
      "2023-08-11 09:42:41,528 Running model_1\n"
     ]
    },
    {
     "name": "stderr",
     "output_type": "stream",
     "text": [
      "2023-08-11 09:46:44.841436: E external/org_tensorflow/tensorflow/compiler/xla/service/slow_operation_alarm.cc:55] \n",
      "********************************\n",
      "Very slow compile?  If you want to file a bug, run with envvar XLA_FLAGS=--xla_dump_to=/tmp/foo and attach the results.\n",
      "Compiling module jit_apply_fn.5\n",
      "********************************\n"
     ]
    },
    {
     "name": "stdout",
     "output_type": "stream",
     "text": [
      "2023-08-11 09:54:05,058 model_1 took 0.0s with pLDDT 96.0\n",
      "2023-08-11 09:54:07,567 Running model_2\n"
     ]
    }
   ],
   "source": [
    "import sys\n",
    "\n",
    "from colabfold.download import download_alphafold_params, default_data_dir\n",
    "from colabfold.utils import setup_logging\n",
    "from colabfold.batch import get_queries, run\n",
    "\n",
    "from pathlib import Path\n",
    "\n",
    "result_dir=\".\"\n",
    "setup_logging(Path(\".\").joinpath(\"log.txt\"))\n",
    "queries, is_complex = get_queries(queries_path)\n",
    "download_alphafold_params(is_complex, Path(\".\"))\n",
    "\n",
    "run(\n",
    "    queries=queries,\n",
    "    result_dir=result_dir,\n",
    "    use_templates=use_templates,\n",
    "    use_amber=use_amber,\n",
    "    msa_mode=msa_mode,\n",
    "    num_models=num_models,\n",
    "    num_recycles=num_recycles,\n",
    "    model_order=[1, 2, 3, 4, 5],\n",
    "    is_complex=is_complex,\n",
    "    data_dir=Path(\".\"),\n",
    "    keep_existing_results=False,\n",
    "    recompile_padding=1.0,\n",
    "    rank_mode=\"auto\",\n",
    "    pair_mode=\"unpaired+paired\",\n",
    "    stop_at_score=float(100),\n",
    ")"
   ]
  },
  {
   "cell_type": "code",
   "execution_count": null,
   "id": "52a4b267-88aa-4988-92df-4a64547226f0",
   "metadata": {
    "tags": []
   },
   "outputs": [],
   "source": [
    "import py3Dmol\n",
    "import glob\n",
    "from colabfold.colabfold import plot_plddt_legend\n",
    "\n",
    "# set different plotting parameters\n",
    "rank_num = 1 # [\"1\", \"2\", \"3\", \"4\", \"5\"] {type:\"raw\"}\n",
    "color = \"rainbow\" # [\"chain\", \"lDDT\", \"rainbow\"]\n",
    "show_sidechains = True\n",
    "show_mainchains = True\n",
    "\n",
    "jobname_prefix = \".custom\" if msa_mode == \"custom\" else \"\"\n",
    "\n",
    "if use_amber:\n",
    "  pdb_filename = f\"{jobname}{jobname_prefix}_relaxed_model_*_rank_{rank_num}.pdb\"\n",
    "else:\n",
    "  pdb_filename = f\"{jobname}{jobname_prefix}_unrelaxed_model_*_rank_{rank_num}.pdb\"\n",
    "\n",
    "pdb_file = glob.glob(pdb_filename)\n",
    "\n",
    "def show_pdb(rank_num=1, show_sidechains=False, show_mainchains=False, color=\"lDDT\"):\n",
    "  view = py3Dmol.view(js='https://3dmol.org/build/3Dmol.js',)\n",
    "  view.addModel(open(pdb_file[0],'r').read(),'pdb')\n",
    "\n",
    "  if color == \"lDDT\":\n",
    "    view.setStyle({'cartoon': {'colorscheme': {'prop':'b','gradient': 'roygb','min':50,'max':90}}})\n",
    "  elif color == \"rainbow\":\n",
    "    view.setStyle({'cartoon': {'color':'spectrum'}})\n",
    "  elif color == \"chain\":\n",
    "    chains = len(queries[0][1]) + 1 if is_complex else 1\n",
    "    for n,chain,color in zip(range(chains),list(\"ABCDEFGH\"),\n",
    "                     [\"lime\",\"cyan\",\"magenta\",\"yellow\",\"salmon\",\"white\",\"blue\",\"orange\"]):\n",
    "      view.setStyle({'chain':chain},{'cartoon': {'color':color}})\n",
    "    \n",
    "  if show_sidechains:\n",
    "    BB = ['C','O','N']\n",
    "    view.addStyle({'and':[{'resn':[\"GLY\",\"PRO\"],'invert':True},{'atom':BB,'invert':True}]},\n",
    "                        {'stick':{'colorscheme':f\"WhiteCarbon\",'radius':0.3}})\n",
    "    view.addStyle({'and':[{'resn':\"GLY\"},{'atom':'CA'}]},\n",
    "                        {'sphere':{'colorscheme':f\"WhiteCarbon\",'radius':0.3}})\n",
    "    view.addStyle({'and':[{'resn':\"PRO\"},{'atom':['C','O'],'invert':True}]},\n",
    "                        {'stick':{'colorscheme':f\"WhiteCarbon\",'radius':0.3}})  \n",
    "  if show_mainchains:\n",
    "    BB = ['C','O','N','CA']\n",
    "    view.addStyle({'atom':BB},{'stick':{'colorscheme':f\"WhiteCarbon\",'radius':0.3}})\n",
    "\n",
    "  view.zoomTo()\n",
    "  return view\n",
    "\n",
    "\n",
    "show_pdb(rank_num, show_sidechains, show_mainchains, color).show()\n",
    "\n",
    "if color == \"lDDT\":\n",
    "  plot_plddt_legend().show()"
   ]
  },
  {
   "cell_type": "code",
   "execution_count": null,
   "id": "86d545ab-ba50-46f1-9570-e7fafddbcdd0",
   "metadata": {
    "tags": []
   },
   "outputs": [],
   "source": [
    "from IPython.display import Image\n",
    "from IPython.display import display\n",
    "\n",
    "pae = Image(f\"{jobname}{jobname_prefix}_PAE.png\")\n",
    "plddt = Image(f\"{jobname}{jobname_prefix}_coverage_lDDT.png\")\n",
    "display(pae, plddt)"
   ]
  },
  {
   "cell_type": "code",
   "execution_count": null,
   "id": "98d21a9d-15ac-47f9-93a2-1116427892e3",
   "metadata": {},
   "outputs": [],
   "source": []
  },
  {
   "cell_type": "code",
   "execution_count": null,
   "id": "c56cfe03-c0ba-4f38-9802-ef7ddadc1b32",
   "metadata": {
    "tags": []
   },
   "outputs": [],
   "source": []
  },
  {
   "cell_type": "code",
   "execution_count": null,
   "id": "e75ec879-0ec2-4d9a-8ae8-13b88d81fd2e",
   "metadata": {},
   "outputs": [],
   "source": []
  },
  {
   "cell_type": "code",
   "execution_count": null,
   "id": "36ed22ae-7a8c-490a-8e9c-a2045ce1ca85",
   "metadata": {},
   "outputs": [],
   "source": []
  },
  {
   "cell_type": "code",
   "execution_count": null,
   "id": "3e745c45-7347-422c-9432-58652540b609",
   "metadata": {},
   "outputs": [],
   "source": []
  },
  {
   "cell_type": "code",
   "execution_count": null,
   "id": "bcd94c31-79fb-45b9-b644-68b3b8ae4727",
   "metadata": {},
   "outputs": [],
   "source": []
  },
  {
   "cell_type": "code",
   "execution_count": null,
   "id": "9b3eb367-04f3-4666-a8ae-43adc0dbafef",
   "metadata": {},
   "outputs": [],
   "source": []
  }
 ],
 "metadata": {
  "kernelspec": {
   "display_name": "Python 3 (ipykernel)",
   "language": "python",
   "name": "python3"
  },
  "language_info": {
   "codemirror_mode": {
    "name": "ipython",
    "version": 3
   },
   "file_extension": ".py",
   "mimetype": "text/x-python",
   "name": "python",
   "nbconvert_exporter": "python",
   "pygments_lexer": "ipython3",
   "version": "3.9.17"
  }
 },
 "nbformat": 4,
 "nbformat_minor": 5
}
